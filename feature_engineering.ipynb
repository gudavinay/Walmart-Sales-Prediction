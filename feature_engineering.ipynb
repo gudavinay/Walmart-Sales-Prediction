{
 "cells": [
  {
   "cell_type": "code",
   "execution_count": 4,
   "id": "sealed-maria",
   "metadata": {},
   "outputs": [],
   "source": [
    "import pandas as pd\n",
    "\n",
    "from sklearn.model_selection import train_test_split\n",
    "from sklearn.linear_model import LogisticRegression\n",
    "from sklearn.model_selection import KFold\n",
    "from sklearn import model_selection\n",
    "from matplotlib import pyplot as plt\n",
    "import seaborn as sns"
   ]
  },
  {
   "cell_type": "code",
   "execution_count": 5,
   "id": "treated-premises",
   "metadata": {},
   "outputs": [],
   "source": [
    "df =  pd.read_csv(\"joined_data_refined.csv\",\n",
    "                         keep_default_na=False, na_values=[\"\"])"
   ]
  },
  {
   "cell_type": "code",
   "execution_count": null,
   "id": "corporate-economics",
   "metadata": {},
   "outputs": [
    {
     "name": "stdout",
     "output_type": "stream",
     "text": [
      "['Store', 'Dept', 'Size', 'Date', 'Weekly_Sales', 'Temperature', 'Fuel_Price', 'CPI', 'Unemployment', 'MarkDown1', 'MarkDown2', 'MarkDown3', 'MarkDown4', 'MarkDown5', 'IsHoliday', 'Type_A', 'Type_B', 'Type_C', 'month', 'Year', 'quarter', 'is_weekend']\n"
     ]
    },
    {
     "data": {
      "image/png": "[encoded data removed]",
      "text/plain": [
       "<Figure size 432x288 with 1 Axes>"
      ]
     },
     "metadata": {
      "needs_background": "light"
     },
     "output_type": "display_data"
    },
    {
     "data": {
      "image/png": "[encoded data removed]",
      "text/plain": [
       "<Figure size 432x288 with 1 Axes>"
      ]
     },
     "metadata": {
      "needs_background": "light"
     },
     "output_type": "display_data"
    },
    {
     "data": {
      "image/png": "[encoded data removed]",
      "text/plain": [
       "<Figure size 432x288 with 1 Axes>"
      ]
     },
     "metadata": {
      "needs_background": "light"
     },
     "output_type": "display_data"
    }
   ],
   "source": [
    "cols = list(df.columns)\n",
    "print(cols)\n",
    "cols.remove('Weekly_Sales')\n",
    "\n",
    "for each in  cols:\n",
    "    plt.boxplot(df[each])\n",
    "    plt.title('Feature - {}'.format(each))\n",
    "    plt.show()"
   ]
  },
  {
   "cell_type": "code",
   "execution_count": null,
   "id": "logical-twins",
   "metadata": {},
   "outputs": [],
   "source": [
    "for col in cols:\n",
    "    quantiles = df[col].quantile([0.25,0.5,0.75])\n",
    "    quantiles = list(quantiles.values)\n",
    "    Q1=quantiles[0]\n",
    "    Q3=quantiles[2]\n",
    "    IQR = Q3-Q1\n",
    "    l_bound = Q1-1.5*IQR\n",
    "    u_bound = Q3+1.5*IQR\n",
    "    print(col)\n",
    "    print(quantiles)\n",
    "    print('Number of Outlier - '+str(len(df[(df[col]>u_bound)|(df[col]<l_bound)][col])))"
   ]
  },
  {
   "cell_type": "code",
   "execution_count": null,
   "id": "liquid-canyon",
   "metadata": {},
   "outputs": [],
   "source": [
    "plt.figure(figsize=(15, 10))\n",
    "\n",
    "# del df['Unnamed: 0']\n",
    "heatmap = sns.heatmap(df.corr(), vmin=-1, vmax=1, annot=True,cmap=\"Blues\",annot_kws={\"fontsize\":10})\n",
    "heatmap.set_title('Correlation Matrix - Test', fontdict={'fontsize':12}, pad=12);"
   ]
  },
  {
   "cell_type": "code",
   "execution_count": null,
   "id": "cooperative-schedule",
   "metadata": {},
   "outputs": [],
   "source": [
    "for col in cols:\n",
    "    plt.figure(figsize=(8,5))\n",
    "    plt.scatter(df[col] , df['Weekly_Sales'])\n",
    "    plt.ylabel('weeklySales')\n",
    "    plt.xlabel(col)"
   ]
  },
  {
   "cell_type": "code",
   "execution_count": null,
   "id": "certain-addition",
   "metadata": {},
   "outputs": [],
   "source": [
    "from matplotlib.gridspec import GridSpec\n",
    "fig = plt.figure(figsize=(20,8))\n",
    "gs = GridSpec(1,2)\n",
    "sns.boxplot(y=df.Weekly_Sales, x=df['IsHoliday'], ax=fig.add_subplot(gs[0,0]))\n",
    "plt.ylabel('Sales', fontsize=16)\n",
    "plt.xlabel('IsHoliday', fontsize=16)\n",
    "sns.stripplot(y=df.Weekly_Sales, x=df['IsHoliday'], ax=fig.add_subplot(gs[0,1]))\n",
    "plt.ylabel('Sales', fontsize=16)\n",
    "plt.xlabel('IsHoliday', fontsize=16)\n",
    "fig.show()"
   ]
  },
  {
   "cell_type": "code",
   "execution_count": null,
   "id": "twenty-opportunity",
   "metadata": {},
   "outputs": [],
   "source": [
    "from sklearn.feature_selection import f_regression,mutual_info_regression,SelectKBest\n",
    "from sklearn.model_selection import train_test_split\n",
    "\n",
    "X = df.copy()\n",
    "del X['Weekly_Sales']\n",
    "Y = df['Weekly_Sales']\n",
    "X_train, X_test, y_train, y_test = train_test_split(X, Y, test_size=0.2, random_state=42)\n",
    "sel_f = SelectKBest(f_regression,k=10).fit(X_train,y_train)\n",
    "df.columns[sel_f.get_support()]"
   ]
  },
  {
   "cell_type": "code",
   "execution_count": null,
   "id": "modern-hollow",
   "metadata": {},
   "outputs": [],
   "source": [
    "# decision tree for feature importance on a regression problem\n",
    "from sklearn.datasets import make_regression\n",
    "from sklearn.tree import DecisionTreeRegressor\n",
    "from matplotlib import pyplot\n",
    "# define dataset\n",
    "X, y = make_regression(n_samples=1000, n_features=10, n_informative=5, random_state=1)\n",
    "# define the model\n",
    "model = DecisionTreeRegressor()\n",
    "# fit the model\n",
    "model.fit(X, y)\n",
    "# get importance\n",
    "importance = model.feature_importances_\n",
    "# summarize feature importance\n",
    "for i,v in enumerate(importance):\n",
    "\tprint('Feature: %0d, Score: %.5f' % (i,v))\n",
    "# plot feature importance\n",
    "pyplot.bar([x for x in range(len(importance))], importance)\n",
    "pyplot.show()"
   ]
  },
  {
   "cell_type": "code",
   "execution_count": null,
   "id": "outdoor-mercy",
   "metadata": {},
   "outputs": [],
   "source": [
    "from sklearn.feature_selection import f_regression,mutual_info_regression,SelectKBest\n",
    "from sklearn.preprocessing import StandardScaler\n",
    "from sklearn.model_selection import train_test_split\n",
    "X = df.drop('Weekly_Sales',axis=1)\n",
    "y = df['Weekly_Sales']\n",
    "X_train, X_test, y_train, y_test = train_test_split(X, y, test_size=0.30, random_state=42)\n",
    "sel_f = SelectKBest(f_regression,k=7).fit(X_train,y_train)\n",
    "X.columns[sel_f.get_support()]"
   ]
  },
  {
   "cell_type": "code",
   "execution_count": null,
   "id": "recreational-landing",
   "metadata": {},
   "outputs": [],
   "source": [
    "df.corr()[['Weekly_Sales']].apply(abs).sort_values('Weekly_Sales', ascending=False).head(10)"
   ]
  },
  {
   "cell_type": "code",
   "execution_count": null,
   "id": "constitutional-bidder",
   "metadata": {},
   "outputs": [],
   "source": [
    "plt.figure(figsize=(10,7))\n",
    "sns.barplot(x='month', y='Weekly_Sales', data=df)"
   ]
  },
  {
   "cell_type": "code",
   "execution_count": null,
   "id": "closing-visibility",
   "metadata": {},
   "outputs": [],
   "source": [
    "plt.figure(figsize=(10,7))\n",
    "sns.barplot(x='Year', y='Weekly_Sales', data=df)"
   ]
  },
  {
   "cell_type": "code",
   "execution_count": null,
   "id": "excited-receipt",
   "metadata": {},
   "outputs": [],
   "source": [
    "plt.figure(figsize=(10,7))\n",
    "sns.barplot(x='IsHoliday', y='Weekly_Sales', data=df)"
   ]
  },
  {
   "cell_type": "code",
   "execution_count": null,
   "id": "ideal-computer",
   "metadata": {},
   "outputs": [],
   "source": [
    "sns.set(font_scale=1)\n",
    "plt.figure(figsize=(20, 5))\n",
    "sns.countplot(df['Store'], color='gray')"
   ]
  },
  {
   "cell_type": "code",
   "execution_count": null,
   "id": "geographic-locking",
   "metadata": {},
   "outputs": [],
   "source": [
    "sns.set(font_scale=1)\n",
    "plt.figure(figsize=(20, 5))\n",
    "sns.countplot(df['Dept'], color='gray')"
   ]
  },
  {
   "cell_type": "code",
   "execution_count": null,
   "id": "lined-concord",
   "metadata": {},
   "outputs": [],
   "source": [
    "great_sales = df[df['Weekly_Sales'] > 300000]\n",
    "great_sales[['Date', 'Dept', 'IsHoliday']]"
   ]
  },
  {
   "cell_type": "code",
   "execution_count": null,
   "id": "metropolitan-investigation",
   "metadata": {},
   "outputs": [],
   "source": []
  },
  {
   "cell_type": "code",
   "execution_count": null,
   "id": "structured-player",
   "metadata": {},
   "outputs": [],
   "source": []
  }
 ],
 "metadata": {
  "kernelspec": {
   "display_name": "Python 3",
   "language": "python",
   "name": "python3"
  },
  "language_info": {
   "codemirror_mode": {
    "name": "ipython",
    "version": 3
   },
   "file_extension": ".py",
   "mimetype": "text/x-python",
   "name": "python",
   "nbconvert_exporter": "python",
   "pygments_lexer": "ipython3",
   "version": "3.9.5"
  }
 },
 "nbformat": 4,
 "nbformat_minor": 5
}
