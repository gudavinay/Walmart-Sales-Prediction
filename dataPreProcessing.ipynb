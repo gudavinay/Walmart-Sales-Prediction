{
 "cells": [
  {
   "cell_type": "code",
   "execution_count": 217,
   "metadata": {},
   "outputs": [],
   "source": [
    "#sql imports\n",
    "from pyspark.sql import *\n",
    "import pyspark.sql.types as typ\n",
    "from pyspark.sql.session import SparkSession\n",
    "import pyspark.sql.functions as fn\n",
    "\n",
    "#spark context\n",
    "from pyspark.context import SparkContext\n",
    "sc = SparkContext.getOrCreate()\n",
    "spark = SparkSession(sc)\n"
   ]
  },
  {
   "cell_type": "code",
   "execution_count": 218,
   "metadata": {},
   "outputs": [],
   "source": [
    "#creating training dataframe\n",
    "labels_train= [('Store',typ.IntegerType()),\n",
    "              ('Dept',typ.IntegerType()),\n",
    "              ('Date',typ.DateType()),\n",
    "              ('Weekly_sales',typ.DoubleType()),\n",
    "              ('IsHoliday',typ.BooleanType())\n",
    "         ]\n",
    "\n",
    "\n",
    "schema_train = typ.StructType([\n",
    "typ.StructField(e[0], e[1], False) for e in labels_train\n",
    "])"
   ]
  },
  {
   "cell_type": "code",
   "execution_count": 219,
   "metadata": {},
   "outputs": [],
   "source": [
    "train_csv_values = spark.read.csv('./train/train.csv', header=True,schema=schema_train)"
   ]
  },
  {
   "cell_type": "code",
   "execution_count": 220,
   "metadata": {},
   "outputs": [
    {
     "name": "stdout",
     "output_type": "stream",
     "text": [
      "root\n",
      " |-- Store: integer (nullable = true)\n",
      " |-- Dept: integer (nullable = true)\n",
      " |-- Date: date (nullable = true)\n",
      " |-- Weekly_sales: double (nullable = true)\n",
      " |-- IsHoliday: boolean (nullable = true)\n",
      "\n"
     ]
    }
   ],
   "source": [
    "train_csv_values.printSchema()\n",
    "#train_csv_values.show(5)"
   ]
  },
  {
   "cell_type": "code",
   "execution_count": 221,
   "metadata": {},
   "outputs": [
    {
     "name": "stdout",
     "output_type": "stream",
     "text": [
      "root\n",
      " |-- Store: integer (nullable = true)\n",
      " |-- Date: date (nullable = true)\n",
      " |-- Temperature: double (nullable = true)\n",
      " |-- Fuel_Price: double (nullable = true)\n",
      " |-- MarkDown1: string (nullable = true)\n",
      " |-- MarkDown2: string (nullable = true)\n",
      " |-- MarkDown3: string (nullable = true)\n",
      " |-- MarkDown4: string (nullable = true)\n",
      " |-- MarkDown5: string (nullable = true)\n",
      " |-- CPI: double (nullable = true)\n",
      " |-- Unemployment: double (nullable = true)\n",
      " |-- IsHoliday: boolean (nullable = true)\n",
      "\n"
     ]
    }
   ],
   "source": [
    "#creating feature dataframe\n",
    "labels_features= [('Store',typ.IntegerType()),\n",
    "              ('Date',typ.DateType()),\n",
    "              ('Temperature',typ.DoubleType()),\n",
    "            ('Fuel_Price',typ.DoubleType()),\n",
    "                  ('MarkDown1',typ.StringType()),\n",
    "                  ('MarkDown2',typ.StringType()),\n",
    "                  ('MarkDown3',typ.StringType()),\n",
    "                  ('MarkDown4',typ.StringType()),\n",
    "                  ('MarkDown5',typ.StringType()),\n",
    "                  ('CPI',typ.DoubleType()),\n",
    "                  ('Unemployment',typ.DoubleType()),\n",
    "              ('IsHoliday',typ.BooleanType())\n",
    "         ]\n",
    "schema_features= typ.StructType([\n",
    "typ.StructField(e[0], e[1], False) for e in labels_features\n",
    "])\n",
    "featuers_csv_values = spark.read.csv('./features/features.csv', header=True,schema=schema_features)\n",
    "featuers_csv_values.printSchema()\n",
    "#featuers_csv_values.show(5)"
   ]
  },
  {
   "cell_type": "code",
   "execution_count": 222,
   "metadata": {},
   "outputs": [
    {
     "name": "stdout",
     "output_type": "stream",
     "text": [
      "root\n",
      " |-- Store: integer (nullable = true)\n",
      " |-- Type: string (nullable = true)\n",
      " |-- Size: integer (nullable = true)\n",
      "\n",
      "+-----+----+------+\n",
      "|Store|Type|  Size|\n",
      "+-----+----+------+\n",
      "|    1|   A|151315|\n",
      "|    2|   A|202307|\n",
      "|    3|   B| 37392|\n",
      "|    4|   A|205863|\n",
      "|    5|   B| 34875|\n",
      "+-----+----+------+\n",
      "only showing top 5 rows\n",
      "\n"
     ]
    }
   ],
   "source": [
    "#creating stores dataframe\n",
    "labels_stores= [('Store',typ.IntegerType()),\n",
    "              ('Type',typ.StringType()),\n",
    "              ('Size',typ.IntegerType())\n",
    "         ]\n",
    "schema_stores= typ.StructType([\n",
    "typ.StructField(e[0], e[1], False) for e in labels_stores\n",
    "])\n",
    "stores_csv_values = spark.read.csv('stores.csv', header=True,schema=schema_stores)\n",
    "stores_csv_values.printSchema()\n",
    "stores_csv_values.show(5)"
   ]
  },
  {
   "cell_type": "code",
   "execution_count": 223,
   "metadata": {},
   "outputs": [
    {
     "data": {
      "text/plain": [
       "['Store',\n",
       " 'Date',\n",
       " 'Temperature',\n",
       " 'Fuel_Price',\n",
       " 'MarkDown1',\n",
       " 'MarkDown2',\n",
       " 'MarkDown3',\n",
       " 'MarkDown4',\n",
       " 'MarkDown5',\n",
       " 'CPI',\n",
       " 'Unemployment',\n",
       " 'IsHoliday']"
      ]
     },
     "execution_count": 223,
     "metadata": {},
     "output_type": "execute_result"
    }
   ],
   "source": [
    "train_csv_values.createOrReplaceTempView(\"train_csv_values\")\n",
    "featuers_csv_values.createOrReplaceTempView(\"featuers_csv_values\")\n",
    "stores_csv_values.createOrReplaceTempView(\"stores_csv_values\")\n",
    "featuers_csv_values.columns"
   ]
  },
  {
   "cell_type": "code",
   "execution_count": 224,
   "metadata": {},
   "outputs": [
    {
     "data": {
      "text/plain": [
       "420212"
      ]
     },
     "execution_count": 224,
     "metadata": {},
     "output_type": "execute_result"
    }
   ],
   "source": [
    "data=spark.sql(\"\"\"select train_csv_values.Store,train_csv_values.Dept,stores_csv_values.Type,stores_csv_values.Size,\n",
    "train_csv_values.Date,train_csv_values.Weekly_Sales,\n",
    "featuers_csv_values.Temperature,featuers_csv_values.Fuel_Price,featuers_csv_values.CPI, featuers_csv_values.Unemployment, featuers_csv_values.MarkDown1, featuers_csv_values.MarkDown2, featuers_csv_values.MarkDown3, featuers_csv_values.MarkDown4, featuers_csv_values.MarkDown5,\n",
    "train_csv_values.IsHoliday from train_csv_values\n",
    "join featuers_csv_values on train_csv_values.Store=featuers_csv_values.Store and train_csv_values.Date=featuers_csv_values.Date\n",
    "Join stores_csv_values on train_csv_values.Store=stores_csv_values.Store\n",
    "where train_csv_values.Weekly_Sales>0\n",
    "\"\"\")\n",
    "#where train_csv_values.Store<=10 and train_csv_values.Dept<=15\n",
    "data.count()"
   ]
  },
  {
   "cell_type": "code",
   "execution_count": 225,
   "metadata": {},
   "outputs": [],
   "source": [
    "data.toPandas()\\\n",
    ".to_csv('joined_data.csv', index = False)"
   ]
  },
  {
   "cell_type": "code",
   "execution_count": 226,
   "metadata": {},
   "outputs": [
    {
     "name": "stdout",
     "output_type": "stream",
     "text": [
      "Count of rows: 420212\n"
     ]
    }
   ],
   "source": [
    "#Data Preprocessing \n",
    "print('Count of rows: {0}'.format(data.count()))"
   ]
  },
  {
   "cell_type": "code",
   "execution_count": 227,
   "metadata": {},
   "outputs": [],
   "source": [
    "df = data.dropDuplicates()"
   ]
  },
  {
   "cell_type": "code",
   "execution_count": 228,
   "metadata": {},
   "outputs": [
    {
     "name": "stdout",
     "output_type": "stream",
     "text": [
      "Count of rows: 420212\n"
     ]
    }
   ],
   "source": [
    "print('Count of rows: {0}'.format(df.count()))"
   ]
  },
  {
   "cell_type": "code",
   "execution_count": 229,
   "metadata": {},
   "outputs": [
    {
     "name": "stdout",
     "output_type": "stream",
     "text": [
      "Count of distinct records: 420212\n"
     ]
    }
   ],
   "source": [
    "print('Count of distinct records: {0}'\\\n",
    "      .format(df.select([c for c in df.columns]).distinct().count()))"
   ]
  },
  {
   "cell_type": "code",
   "execution_count": 230,
   "metadata": {},
   "outputs": [
    {
     "name": "stdout",
     "output_type": "stream",
     "text": [
      "+-------------+------------+------------+------------+------------+--------------------+-------------------+------------------+-----------+--------------------+-----------------+-----------------+-----------------+-----------------+-----------------+-----------------+\n",
      "|Store_missing|Dept_missing|Type_missing|Size_missing|Date_missing|Weekly_Sales_missing|Temperature_missing|Fuel_Price_missing|CPI_missing|Unemployment_missing|MarkDown1_missing|MarkDown2_missing|MarkDown3_missing|MarkDown4_missing|MarkDown5_missing|IsHoliday_missing|\n",
      "+-------------+------------+------------+------------+------------+--------------------+-------------------+------------------+-----------+--------------------+-----------------+-----------------+-----------------+-----------------+-----------------+-----------------+\n",
      "|          0.0|         0.0|         0.0|         0.0|         0.0|                 0.0|                0.0|               0.0|        0.0|                 0.0|              0.0|              0.0|              0.0|              0.0|              0.0|              0.0|\n",
      "+-------------+------------+------------+------------+------------+--------------------+-------------------+------------------+-----------+--------------------+-----------------+-----------------+-----------------+-----------------+-----------------+-----------------+\n",
      "\n"
     ]
    }
   ],
   "source": [
    "df.agg(*[\n",
    "(1 - (fn.count(c) / fn.count('*'))).alias(c + '_missing') \\\n",
    "for c in df.columns\n",
    "]).show()"
   ]
  },
  {
   "cell_type": "code",
   "execution_count": 231,
   "metadata": {},
   "outputs": [
    {
     "name": "stdout",
     "output_type": "stream",
     "text": [
      "root\n",
      " |-- Store: integer (nullable = true)\n",
      " |-- Dept: integer (nullable = true)\n",
      " |-- Type: string (nullable = true)\n",
      " |-- Size: integer (nullable = true)\n",
      " |-- Date: date (nullable = true)\n",
      " |-- Weekly_Sales: double (nullable = true)\n",
      " |-- Temperature: double (nullable = true)\n",
      " |-- Fuel_Price: double (nullable = true)\n",
      " |-- CPI: double (nullable = true)\n",
      " |-- Unemployment: double (nullable = true)\n",
      " |-- MarkDown1: string (nullable = true)\n",
      " |-- MarkDown2: string (nullable = true)\n",
      " |-- MarkDown3: string (nullable = true)\n",
      " |-- MarkDown4: string (nullable = true)\n",
      " |-- MarkDown5: string (nullable = true)\n",
      " |-- IsHoliday: boolean (nullable = true)\n",
      "\n"
     ]
    }
   ],
   "source": [
    "df.printSchema()"
   ]
  },
  {
   "cell_type": "code",
   "execution_count": 232,
   "metadata": {},
   "outputs": [],
   "source": [
    "import pandas as pd\n",
    "import numpy as np"
   ]
  },
  {
   "cell_type": "code",
   "execution_count": 233,
   "metadata": {},
   "outputs": [],
   "source": [
    "df = pd.read_csv('joined_data.csv')"
   ]
  },
  {
   "cell_type": "code",
   "execution_count": 234,
   "metadata": {},
   "outputs": [],
   "source": [
    "df['MarkDown1'] = df['MarkDown1'].replace(np.nan, 0)"
   ]
  },
  {
   "cell_type": "code",
   "execution_count": 235,
   "metadata": {},
   "outputs": [
    {
     "name": "stdout",
     "output_type": "stream",
     "text": [
      "        MarkDown1\n",
      "0            0.00\n",
      "1            0.00\n",
      "2            0.00\n",
      "3            0.00\n",
      "4            0.00\n",
      "...           ...\n",
      "420207    4556.61\n",
      "420208    5046.74\n",
      "420209    1956.28\n",
      "420210    2004.02\n",
      "420211    4018.91\n",
      "\n",
      "[420212 rows x 1 columns]\n"
     ]
    }
   ],
   "source": [
    "print(df[['MarkDown1']])"
   ]
  },
  {
   "cell_type": "code",
   "execution_count": 236,
   "metadata": {},
   "outputs": [],
   "source": [
    "df['MarkDown2'] = df['MarkDown2'].replace(np.nan, 0)"
   ]
  },
  {
   "cell_type": "code",
   "execution_count": 237,
   "metadata": {},
   "outputs": [],
   "source": [
    "df['MarkDown3'] = df['MarkDown3'].replace(np.nan, 0)"
   ]
  },
  {
   "cell_type": "code",
   "execution_count": 238,
   "metadata": {},
   "outputs": [],
   "source": [
    "df['MarkDown4'] = df['MarkDown4'].replace(np.nan, 0)"
   ]
  },
  {
   "cell_type": "code",
   "execution_count": 239,
   "metadata": {},
   "outputs": [],
   "source": [
    "df['MarkDown5'] = df['MarkDown5'].replace(np.nan, 0)"
   ]
  },
  {
   "cell_type": "code",
   "execution_count": 240,
   "metadata": {},
   "outputs": [
    {
     "name": "stdout",
     "output_type": "stream",
     "text": [
      "        MarkDown1  MarkDown2  MarkDown3  MarkDown4  MarkDown5\n",
      "0            0.00       0.00       0.00       0.00       0.00\n",
      "1            0.00       0.00       0.00       0.00       0.00\n",
      "2            0.00       0.00       0.00       0.00       0.00\n",
      "3            0.00       0.00       0.00       0.00       0.00\n",
      "4            0.00       0.00       0.00       0.00       0.00\n",
      "...           ...        ...        ...        ...        ...\n",
      "420207    4556.61      20.64       1.50    1601.01    3288.25\n",
      "420208    5046.74       0.00      18.82    2253.43    2340.01\n",
      "420209    1956.28       0.00       7.89     599.32    3990.54\n",
      "420210    2004.02       0.00       3.18     437.73    1537.49\n",
      "420211    4018.91      58.08     100.00     211.94     858.33\n",
      "\n",
      "[420212 rows x 5 columns]\n"
     ]
    }
   ],
   "source": [
    "print(df[['MarkDown1','MarkDown2','MarkDown3','MarkDown4','MarkDown5']])"
   ]
  },
  {
   "cell_type": "code",
   "execution_count": 241,
   "metadata": {},
   "outputs": [],
   "source": [
    "df=pd.get_dummies(df,columns=['Type'])"
   ]
  },
  {
   "cell_type": "code",
   "execution_count": 242,
   "metadata": {},
   "outputs": [],
   "source": [
    "import datetime"
   ]
  },
  {
   "cell_type": "code",
   "execution_count": 243,
   "metadata": {},
   "outputs": [],
   "source": [
    "df['Date']= pd.to_datetime(df['Date']) "
   ]
  },
  {
   "cell_type": "code",
   "execution_count": 244,
   "metadata": {},
   "outputs": [],
   "source": [
    "df['month'] = df['Date'].dt.month\n",
    "df['Year'] = df['Date'].dt.year"
   ]
  },
  {
   "cell_type": "code",
   "execution_count": 245,
   "metadata": {},
   "outputs": [
    {
     "data": {
      "text/html": [
       "<div>\n",
       "<style scoped>\n",
       "    .dataframe tbody tr th:only-of-type {\n",
       "        vertical-align: middle;\n",
       "    }\n",
       "\n",
       "    .dataframe tbody tr th {\n",
       "        vertical-align: top;\n",
       "    }\n",
       "\n",
       "    .dataframe thead th {\n",
       "        text-align: right;\n",
       "    }\n",
       "</style>\n",
       "<table border=\"1\" class=\"dataframe\">\n",
       "  <thead>\n",
       "    <tr style=\"text-align: right;\">\n",
       "      <th></th>\n",
       "      <th>Date</th>\n",
       "      <th>month</th>\n",
       "      <th>Year</th>\n",
       "    </tr>\n",
       "  </thead>\n",
       "  <tbody>\n",
       "    <tr>\n",
       "      <th>0</th>\n",
       "      <td>2010-02-05</td>\n",
       "      <td>2</td>\n",
       "      <td>2010</td>\n",
       "    </tr>\n",
       "    <tr>\n",
       "      <th>1</th>\n",
       "      <td>2010-02-12</td>\n",
       "      <td>2</td>\n",
       "      <td>2010</td>\n",
       "    </tr>\n",
       "    <tr>\n",
       "      <th>2</th>\n",
       "      <td>2010-02-19</td>\n",
       "      <td>2</td>\n",
       "      <td>2010</td>\n",
       "    </tr>\n",
       "    <tr>\n",
       "      <th>3</th>\n",
       "      <td>2010-02-26</td>\n",
       "      <td>2</td>\n",
       "      <td>2010</td>\n",
       "    </tr>\n",
       "    <tr>\n",
       "      <th>4</th>\n",
       "      <td>2010-03-05</td>\n",
       "      <td>3</td>\n",
       "      <td>2010</td>\n",
       "    </tr>\n",
       "  </tbody>\n",
       "</table>\n",
       "</div>"
      ],
      "text/plain": [
       "        Date  month  Year\n",
       "0 2010-02-05      2  2010\n",
       "1 2010-02-12      2  2010\n",
       "2 2010-02-19      2  2010\n",
       "3 2010-02-26      2  2010\n",
       "4 2010-03-05      3  2010"
      ]
     },
     "execution_count": 245,
     "metadata": {},
     "output_type": "execute_result"
    }
   ],
   "source": [
    "df[['Date','month', 'Year']].head()"
   ]
  },
  {
   "cell_type": "code",
   "execution_count": 246,
   "metadata": {},
   "outputs": [
    {
     "data": {
      "text/html": [
       "<div>\n",
       "<style scoped>\n",
       "    .dataframe tbody tr th:only-of-type {\n",
       "        vertical-align: middle;\n",
       "    }\n",
       "\n",
       "    .dataframe tbody tr th {\n",
       "        vertical-align: top;\n",
       "    }\n",
       "\n",
       "    .dataframe thead th {\n",
       "        text-align: right;\n",
       "    }\n",
       "</style>\n",
       "<table border=\"1\" class=\"dataframe\">\n",
       "  <thead>\n",
       "    <tr style=\"text-align: right;\">\n",
       "      <th></th>\n",
       "      <th>Date</th>\n",
       "      <th>quarter</th>\n",
       "    </tr>\n",
       "  </thead>\n",
       "  <tbody>\n",
       "    <tr>\n",
       "      <th>0</th>\n",
       "      <td>2010-02-05</td>\n",
       "      <td>1</td>\n",
       "    </tr>\n",
       "    <tr>\n",
       "      <th>1</th>\n",
       "      <td>2010-02-12</td>\n",
       "      <td>1</td>\n",
       "    </tr>\n",
       "    <tr>\n",
       "      <th>2</th>\n",
       "      <td>2010-02-19</td>\n",
       "      <td>1</td>\n",
       "    </tr>\n",
       "    <tr>\n",
       "      <th>3</th>\n",
       "      <td>2010-02-26</td>\n",
       "      <td>1</td>\n",
       "    </tr>\n",
       "    <tr>\n",
       "      <th>4</th>\n",
       "      <td>2010-03-05</td>\n",
       "      <td>1</td>\n",
       "    </tr>\n",
       "  </tbody>\n",
       "</table>\n",
       "</div>"
      ],
      "text/plain": [
       "        Date  quarter\n",
       "0 2010-02-05        1\n",
       "1 2010-02-12        1\n",
       "2 2010-02-19        1\n",
       "3 2010-02-26        1\n",
       "4 2010-03-05        1"
      ]
     },
     "execution_count": 246,
     "metadata": {},
     "output_type": "execute_result"
    }
   ],
   "source": [
    "df['quarter'] = df['Date'].dt.quarter\n",
    "df[['Date','quarter']].head()"
   ]
  },
  {
   "cell_type": "code",
   "execution_count": 247,
   "metadata": {},
   "outputs": [
    {
     "data": {
      "text/html": [
       "<div>\n",
       "<style scoped>\n",
       "    .dataframe tbody tr th:only-of-type {\n",
       "        vertical-align: middle;\n",
       "    }\n",
       "\n",
       "    .dataframe tbody tr th {\n",
       "        vertical-align: top;\n",
       "    }\n",
       "\n",
       "    .dataframe thead th {\n",
       "        text-align: right;\n",
       "    }\n",
       "</style>\n",
       "<table border=\"1\" class=\"dataframe\">\n",
       "  <thead>\n",
       "    <tr style=\"text-align: right;\">\n",
       "      <th></th>\n",
       "      <th>Date</th>\n",
       "      <th>dayofweek_name</th>\n",
       "    </tr>\n",
       "  </thead>\n",
       "  <tbody>\n",
       "    <tr>\n",
       "      <th>0</th>\n",
       "      <td>2010-02-05</td>\n",
       "      <td>Friday</td>\n",
       "    </tr>\n",
       "    <tr>\n",
       "      <th>1</th>\n",
       "      <td>2010-02-12</td>\n",
       "      <td>Friday</td>\n",
       "    </tr>\n",
       "    <tr>\n",
       "      <th>2</th>\n",
       "      <td>2010-02-19</td>\n",
       "      <td>Friday</td>\n",
       "    </tr>\n",
       "    <tr>\n",
       "      <th>3</th>\n",
       "      <td>2010-02-26</td>\n",
       "      <td>Friday</td>\n",
       "    </tr>\n",
       "    <tr>\n",
       "      <th>4</th>\n",
       "      <td>2010-03-05</td>\n",
       "      <td>Friday</td>\n",
       "    </tr>\n",
       "  </tbody>\n",
       "</table>\n",
       "</div>"
      ],
      "text/plain": [
       "        Date dayofweek_name\n",
       "0 2010-02-05         Friday\n",
       "1 2010-02-12         Friday\n",
       "2 2010-02-19         Friday\n",
       "3 2010-02-26         Friday\n",
       "4 2010-03-05         Friday"
      ]
     },
     "execution_count": 247,
     "metadata": {},
     "output_type": "execute_result"
    }
   ],
   "source": [
    "df['dayofweek_name'] = df['Date'].dt.day_name()\n",
    "df[['Date','dayofweek_name']].head()"
   ]
  },
  {
   "cell_type": "code",
   "execution_count": 248,
   "metadata": {},
   "outputs": [
    {
     "data": {
      "text/html": [
       "<div>\n",
       "<style scoped>\n",
       "    .dataframe tbody tr th:only-of-type {\n",
       "        vertical-align: middle;\n",
       "    }\n",
       "\n",
       "    .dataframe tbody tr th {\n",
       "        vertical-align: top;\n",
       "    }\n",
       "\n",
       "    .dataframe thead th {\n",
       "        text-align: right;\n",
       "    }\n",
       "</style>\n",
       "<table border=\"1\" class=\"dataframe\">\n",
       "  <thead>\n",
       "    <tr style=\"text-align: right;\">\n",
       "      <th></th>\n",
       "      <th>Date</th>\n",
       "      <th>is_weekend</th>\n",
       "    </tr>\n",
       "  </thead>\n",
       "  <tbody>\n",
       "    <tr>\n",
       "      <th>0</th>\n",
       "      <td>2010-02-05</td>\n",
       "      <td>0</td>\n",
       "    </tr>\n",
       "    <tr>\n",
       "      <th>1</th>\n",
       "      <td>2010-02-12</td>\n",
       "      <td>0</td>\n",
       "    </tr>\n",
       "    <tr>\n",
       "      <th>2</th>\n",
       "      <td>2010-02-19</td>\n",
       "      <td>0</td>\n",
       "    </tr>\n",
       "    <tr>\n",
       "      <th>3</th>\n",
       "      <td>2010-02-26</td>\n",
       "      <td>0</td>\n",
       "    </tr>\n",
       "    <tr>\n",
       "      <th>4</th>\n",
       "      <td>2010-03-05</td>\n",
       "      <td>0</td>\n",
       "    </tr>\n",
       "  </tbody>\n",
       "</table>\n",
       "</div>"
      ],
      "text/plain": [
       "        Date  is_weekend\n",
       "0 2010-02-05           0\n",
       "1 2010-02-12           0\n",
       "2 2010-02-19           0\n",
       "3 2010-02-26           0\n",
       "4 2010-03-05           0"
      ]
     },
     "execution_count": 248,
     "metadata": {},
     "output_type": "execute_result"
    }
   ],
   "source": [
    "df['is_weekend'] = np.where(df['dayofweek_name'].isin(['Sunday','Saturday']),1,0)\n",
    "df[['Date','is_weekend']].head()"
   ]
  },
  {
   "cell_type": "code",
   "execution_count": 249,
   "metadata": {},
   "outputs": [
    {
     "name": "stdout",
     "output_type": "stream",
     "text": [
      "   Store  Dept    Size       Date  Weekly_Sales  Temperature  Fuel_Price  \\\n",
      "0      1     1  151315 2010-02-05      24924.50        42.31       2.572   \n",
      "1      1     1  151315 2010-02-12      46039.49        38.51       2.548   \n",
      "2      1     1  151315 2010-02-19      41595.55        39.93       2.514   \n",
      "3      1     1  151315 2010-02-26      19403.54        46.63       2.561   \n",
      "4      1     1  151315 2010-03-05      21827.90        46.50       2.625   \n",
      "\n",
      "          CPI  Unemployment  MarkDown1  ...  MarkDown4  MarkDown5  IsHoliday  \\\n",
      "0  211.096358         8.106        0.0  ...        0.0        0.0          0   \n",
      "1  211.242170         8.106        0.0  ...        0.0        0.0          1   \n",
      "2  211.289143         8.106        0.0  ...        0.0        0.0          0   \n",
      "3  211.319643         8.106        0.0  ...        0.0        0.0          0   \n",
      "4  211.350143         8.106        0.0  ...        0.0        0.0          0   \n",
      "\n",
      "   Type_A  Type_B  Type_C  month  Year  quarter  is_weekend  \n",
      "0       1       0       0      2  2010        1           0  \n",
      "1       1       0       0      2  2010        1           0  \n",
      "2       1       0       0      2  2010        1           0  \n",
      "3       1       0       0      2  2010        1           0  \n",
      "4       1       0       0      3  2010        1           0  \n",
      "\n",
      "[5 rows x 22 columns]\n"
     ]
    }
   ],
   "source": [
    "\n",
    "df[\"IsHoliday\"] = df[\"IsHoliday\"].astype(int)\n",
    "del df['dayofweek_name']\n",
    "# del df['Date']\n",
    "print(df.head())"
   ]
  },
  {
   "cell_type": "code",
   "execution_count": 250,
   "metadata": {},
   "outputs": [],
   "source": [
    "df.to_csv('joined_data_refined.csv', index=False)"
   ]
  },
  {
   "cell_type": "code",
   "execution_count": null,
   "metadata": {},
   "outputs": [],
   "source": []
  }
 ],
 "metadata": {
  "kernelspec": {
   "display_name": "Python 3",
   "language": "python",
   "name": "python3"
  },
  "language_info": {
   "codemirror_mode": {
    "name": "ipython",
    "version": 3
   },
   "file_extension": ".py",
   "mimetype": "text/x-python",
   "name": "python",
   "nbconvert_exporter": "python",
   "pygments_lexer": "ipython3",
   "version": "3.9.5"
  }
 },
 "nbformat": 4,
 "nbformat_minor": 4
}
