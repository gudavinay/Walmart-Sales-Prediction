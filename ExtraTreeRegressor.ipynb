{
 "cells": [
  {
   "cell_type": "code",
   "execution_count": 4,
   "id": "periodic-appeal",
   "metadata": {},
   "outputs": [],
   "source": [
    "import pandas as pd\n",
    "import numpy as np\n",
    "from sklearn.model_selection import train_test_split"
   ]
  },
  {
   "cell_type": "code",
   "execution_count": 5,
   "id": "painted-oxide",
   "metadata": {},
   "outputs": [
    {
     "name": "stdout",
     "output_type": "stream",
     "text": [
      "Index(['Store', 'Dept', 'Size', 'Weekly_Sales', 'Temperature', 'Fuel_Price',\n",
      "       'CPI', 'Unemployment', 'MarkDown1', 'MarkDown2', 'MarkDown3',\n",
      "       'MarkDown4', 'MarkDown5', 'IsHoliday', 'Type_A', 'Type_B', 'Type_C',\n",
      "       'month', 'Year', 'quarter', 'is_weekend'],\n",
      "      dtype='object')\n"
     ]
    }
   ],
   "source": [
    "df =  pd.read_csv(\"joined_data_refined.csv\",keep_default_na=False, na_values=[\"\"])\n",
    "print(df.columns)"
   ]
  },
  {
   "cell_type": "code",
   "execution_count": 6,
   "id": "arranged-mississippi",
   "metadata": {},
   "outputs": [
    {
     "name": "stdout",
     "output_type": "stream",
     "text": [
      "   Store  Dept    Size  IsHoliday         CPI  Temperature  Type_B  Type_C  \\\n",
      "0      1     1  151315          0  211.096358        42.31       0       0   \n",
      "1      1     1  151315          1  211.242170        38.51       0       0   \n",
      "2      1     1  151315          0  211.289143        39.93       0       0   \n",
      "3      1     1  151315          0  211.319643        46.63       0       0   \n",
      "4      1     1  151315          0  211.350143        46.50       0       0   \n",
      "\n",
      "   MarkDown4  month  Year  \n",
      "0        0.0      2  2010  \n",
      "1        0.0      2  2010  \n",
      "2        0.0      2  2010  \n",
      "3        0.0      2  2010  \n",
      "4        0.0      3  2010  \n"
     ]
    }
   ],
   "source": [
    "X = df.loc[:, df.columns != 'Weekly_Sales']\n",
    "y = df.loc[:, df.columns == 'Weekly_Sales']\n",
    "\n",
    "X = X[[\"Store\", \"Dept\", \"Size\", \"IsHoliday\", \"CPI\", \"Temperature\",\"Type_B\",\"Type_C\",\"MarkDown4\",\"month\",\"Year\" ]]\n",
    "y = y.values.reshape(-1, 1)\n",
    "print(X.head())\n",
    "\n",
    "X_train, X_test, y_train, y_test = train_test_split(X, y, test_size=0.2, random_state=42)"
   ]
  },
  {
   "cell_type": "code",
   "execution_count": 7,
   "id": "precious-shirt",
   "metadata": {},
   "outputs": [
    {
     "name": "stdout",
     "output_type": "stream",
     "text": [
      "Accuracy: 96.5750986353219 %\n"
     ]
    }
   ],
   "source": [
    "from sklearn.ensemble import ExtraTreesRegressor\n",
    "reg = ExtraTreesRegressor(n_estimators=58, max_depth=27, min_samples_split=3, min_samples_leaf=1).fit(X_train, y_train.ravel())\n",
    "print('Accuracy:',reg.score(X_test, y_test.ravel())*100,'%')"
   ]
  },
  {
   "cell_type": "code",
   "execution_count": 8,
   "id": "wrong-roots",
   "metadata": {},
   "outputs": [
    {
     "name": "stdout",
     "output_type": "stream",
     "text": [
      "RMSE: 4182.653284187207\n",
      "MAE: 1652.9006919883343\n"
     ]
    }
   ],
   "source": [
    "y_pred = reg.predict(X_test)\n",
    "\n",
    "from sklearn.metrics import mean_squared_error\n",
    "from sklearn.metrics import mean_absolute_error\n",
    "\n",
    "rms = mean_squared_error(y_test, y_pred, squared=False)\n",
    "print('RMSE:',rms)\n",
    "\n",
    "print('MAE:',mean_absolute_error(y_test, y_pred))"
   ]
  }
 ],
 "metadata": {
  "kernelspec": {
   "display_name": "Python 3",
   "language": "python",
   "name": "python3"
  },
  "language_info": {
   "codemirror_mode": {
    "name": "ipython",
    "version": 3
   },
   "file_extension": ".py",
   "mimetype": "text/x-python",
   "name": "python",
   "nbconvert_exporter": "python",
   "pygments_lexer": "ipython3",
   "version": "3.9.5"
  }
 },
 "nbformat": 4,
 "nbformat_minor": 5
}
