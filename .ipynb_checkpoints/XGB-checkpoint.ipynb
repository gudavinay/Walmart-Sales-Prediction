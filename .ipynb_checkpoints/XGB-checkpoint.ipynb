{
 "cells": [
  {
   "cell_type": "code",
   "execution_count": 4,
   "id": "appropriate-deposit",
   "metadata": {},
   "outputs": [],
   "source": [
    "import pandas as pd\n",
    "import numpy as np\n",
    "from sklearn.model_selection import train_test_split\n"
   ]
  },
  {
   "cell_type": "code",
   "execution_count": 5,
   "id": "incident-stability",
   "metadata": {},
   "outputs": [
    {
     "name": "stdout",
     "output_type": "stream",
     "text": [
      "Index(['Unnamed: 0', 'Store', 'Dept', 'Size', 'Date', 'Weekly_Sales',\n",
      "       'Temperature', 'Fuel_Price', 'CPI', 'Unemployment', 'MarkDown1',\n",
      "       'MarkDown2', 'MarkDown3', 'MarkDown4', 'MarkDown5', 'IsHoliday',\n",
      "       'Type_A', 'Type_B', 'Type_C', 'month', 'quarter', 'dayofweek_name',\n",
      "       'is_weekend'],\n",
      "      dtype='object')\n",
      "<class 'pandas.core.frame.DataFrame'>\n",
      "RangeIndex: 420212 entries, 0 to 420211\n",
      "Data columns (total 23 columns):\n",
      " #   Column          Non-Null Count   Dtype  \n",
      "---  ------          --------------   -----  \n",
      " 0   Unnamed: 0      420212 non-null  int64  \n",
      " 1   Store           420212 non-null  int64  \n",
      " 2   Dept            420212 non-null  int64  \n",
      " 3   Size            420212 non-null  int64  \n",
      " 4   Date            420212 non-null  object \n",
      " 5   Weekly_Sales    420212 non-null  float64\n",
      " 6   Temperature     420212 non-null  float64\n",
      " 7   Fuel_Price      420212 non-null  float64\n",
      " 8   CPI             420212 non-null  float64\n",
      " 9   Unemployment    420212 non-null  float64\n",
      " 10  MarkDown1       420212 non-null  float64\n",
      " 11  MarkDown2       420212 non-null  float64\n",
      " 12  MarkDown3       420212 non-null  float64\n",
      " 13  MarkDown4       420212 non-null  float64\n",
      " 14  MarkDown5       420212 non-null  float64\n",
      " 15  IsHoliday       420212 non-null  bool   \n",
      " 16  Type_A          420212 non-null  int64  \n",
      " 17  Type_B          420212 non-null  int64  \n",
      " 18  Type_C          420212 non-null  int64  \n",
      " 19  month           420212 non-null  int64  \n",
      " 20  quarter         420212 non-null  int64  \n",
      " 21  dayofweek_name  420212 non-null  object \n",
      " 22  is_weekend      420212 non-null  int64  \n",
      "dtypes: bool(1), float64(10), int64(10), object(2)\n",
      "memory usage: 70.9+ MB\n",
      "None\n"
     ]
    }
   ],
   "source": [
    "df =  pd.read_csv(\"joined_data_refined.csv\",keep_default_na=False, na_values=[\"\"])\n",
    "print(df.columns)\n",
    "print(df.info())"
   ]
  },
  {
   "cell_type": "code",
   "execution_count": 6,
   "id": "chief-tract",
   "metadata": {},
   "outputs": [],
   "source": [
    "del df['MarkDown1']\n",
    "del df['MarkDown2']\n",
    "del df['MarkDown3']\n",
    "del df['MarkDown4']\n",
    "del df['MarkDown5']"
   ]
  },
  {
   "cell_type": "code",
   "execution_count": 7,
   "id": "recreational-excitement",
   "metadata": {},
   "outputs": [],
   "source": [
    "del df['Type_A']"
   ]
  },
  {
   "cell_type": "code",
   "execution_count": 9,
   "id": "limited-jewelry",
   "metadata": {},
   "outputs": [],
   "source": [
    "del df['dayofweek_name']\n",
    "del df['Date']\n",
    "del df['Unnamed: 0']\n",
    "del df['IsHoliday']"
   ]
  },
  {
   "cell_type": "code",
   "execution_count": 11,
   "id": "undefined-director",
   "metadata": {},
   "outputs": [],
   "source": [
    "df.drop('Type_B',axis=1,inplace=True)"
   ]
  },
  {
   "cell_type": "code",
   "execution_count": 12,
   "id": "preliminary-wrong",
   "metadata": {},
   "outputs": [
    {
     "name": "stdout",
     "output_type": "stream",
     "text": [
      "Index(['Store', 'Dept', 'Size', 'Weekly_Sales', 'Temperature', 'Fuel_Price',\n",
      "       'CPI', 'Unemployment', 'Type_C', 'month', 'quarter', 'is_weekend'],\n",
      "      dtype='object')\n"
     ]
    }
   ],
   "source": [
    "print(df.columns)"
   ]
  },
  {
   "cell_type": "code",
   "execution_count": 13,
   "id": "terminal-significance",
   "metadata": {},
   "outputs": [
    {
     "name": "stdout",
     "output_type": "stream",
     "text": [
      "<class 'pandas.core.frame.DataFrame'>\n",
      "RangeIndex: 420212 entries, 0 to 420211\n",
      "Data columns (total 12 columns):\n",
      " #   Column        Non-Null Count   Dtype  \n",
      "---  ------        --------------   -----  \n",
      " 0   Store         420212 non-null  int64  \n",
      " 1   Dept          420212 non-null  int64  \n",
      " 2   Size          420212 non-null  int64  \n",
      " 3   Weekly_Sales  420212 non-null  float64\n",
      " 4   Temperature   420212 non-null  float64\n",
      " 5   Fuel_Price    420212 non-null  float64\n",
      " 6   CPI           420212 non-null  float64\n",
      " 7   Unemployment  420212 non-null  float64\n",
      " 8   Type_C        420212 non-null  int64  \n",
      " 9   month         420212 non-null  int64  \n",
      " 10  quarter       420212 non-null  int64  \n",
      " 11  is_weekend    420212 non-null  int64  \n",
      "dtypes: float64(5), int64(7)\n",
      "memory usage: 38.5 MB\n",
      "None\n"
     ]
    }
   ],
   "source": [
    "print(df.info())"
   ]
  },
  {
   "cell_type": "code",
   "execution_count": 14,
   "id": "armed-allen",
   "metadata": {},
   "outputs": [],
   "source": [
    "X=df[df.columns.difference(['Weekly_Sales'])]\n",
    "y=df['Weekly_Sales']"
   ]
  },
  {
   "cell_type": "code",
   "execution_count": 15,
   "id": "civilian-adventure",
   "metadata": {},
   "outputs": [],
   "source": [
    "X_train, X_test, y_train, y_test = train_test_split(X, y, test_size=0.3, random_state=42)"
   ]
  },
  {
   "cell_type": "code",
   "execution_count": 16,
   "id": "stuffed-token",
   "metadata": {},
   "outputs": [],
   "source": [
    "import xgboost as xgb\n",
    "import warnings"
   ]
  },
  {
   "cell_type": "code",
   "execution_count": 17,
   "id": "parliamentary-confidentiality",
   "metadata": {},
   "outputs": [
    {
     "data": {
      "text/plain": [
       "XGBRegressor(base_score=0.5, booster='gbtree', colsample_bylevel=1,\n",
       "             colsample_bynode=1, colsample_bytree=1, gamma=0, gpu_id=-1,\n",
       "             importance_type='gain', interaction_constraints='',\n",
       "             learning_rate=0.300000012, max_delta_step=0, max_depth=6,\n",
       "             min_child_weight=1, missing=nan, monotone_constraints='()',\n",
       "             n_estimators=100, n_jobs=8, num_parallel_tree=1, random_state=0,\n",
       "             reg_alpha=0, reg_lambda=1, scale_pos_weight=1, subsample=1,\n",
       "             tree_method='exact', validate_parameters=1, verbosity=None)"
      ]
     },
     "execution_count": 17,
     "metadata": {},
     "output_type": "execute_result"
    }
   ],
   "source": [
    "warnings.filterwarnings(\"ignore\", category=FutureWarning)\n",
    "xg_reg = xgb.XGBRegressor(objective='reg:squarederror')\n",
    "xg_reg.fit(X_train, y_train)"
   ]
  },
  {
   "cell_type": "code",
   "execution_count": 19,
   "id": "vital-puppy",
   "metadata": {},
   "outputs": [],
   "source": [
    "pred=xg_reg.predict(X_train)\n",
    "y_pred=xg_reg.predict(X_test)"
   ]
  },
  {
   "cell_type": "code",
   "execution_count": 30,
   "id": "nervous-harvest",
   "metadata": {},
   "outputs": [],
   "source": [
    "from sklearn.metrics import accuracy_score\n",
    "from sklearn.metrics import mean_squared_error\n",
    "from sklearn.metrics import mean_absolute_error\n",
    "from sklearn.metrics import r2_score\n",
    "from sklearn.model_selection import GridSearchCV"
   ]
  },
  {
   "cell_type": "code",
   "execution_count": 22,
   "id": "demonstrated-cornell",
   "metadata": {},
   "outputs": [
    {
     "name": "stdout",
     "output_type": "stream",
     "text": [
      "Mean Absolute Error: 3139.8735011980234\n",
      "Mean Squared Error: 36861296.70909084\n",
      "Root Mean Squared Error: 6071.350484784323\n"
     ]
    }
   ],
   "source": [
    "print('Mean Absolute Error:', mean_absolute_error(y_test, y_pred))  \n",
    "print('Mean Squared Error:', mean_squared_error(y_test, y_pred))  \n",
    "print('Root Mean Squared Error:', np.sqrt(mean_squared_error(y_test, y_pred)))"
   ]
  },
  {
   "cell_type": "code",
   "execution_count": 25,
   "id": "entertaining-reaction",
   "metadata": {},
   "outputs": [
    {
     "name": "stdout",
     "output_type": "stream",
     "text": [
      "R-squared score: 0.9273068052654861\n"
     ]
    }
   ],
   "source": [
    "print(\"R-squared score:\",r2_score(y_test, y_pred))"
   ]
  },
  {
   "cell_type": "code",
   "execution_count": 26,
   "id": "treated-cargo",
   "metadata": {},
   "outputs": [
    {
     "name": "stdout",
     "output_type": "stream",
     "text": [
      "92.73068052654861\n"
     ]
    },
    {
     "name": "stderr",
     "output_type": "stream",
     "text": [
      "C:\\Users\\bodke\\AppData\\Local\\Packages\\PythonSoftwareFoundation.Python.3.9_qbz5n2kfra8p0\\LocalCache\\local-packages\\Python39\\site-packages\\xgboost\\data.py:112: UserWarning: Use subset (sliced data) of np.ndarray is not recommended because it will generate extra copies and increase memory consumption\n",
      "  warnings.warn(\n"
     ]
    }
   ],
   "source": [
    "print(xg_reg.score(X_test, y_test)*100)"
   ]
  },
  {
   "cell_type": "code",
   "execution_count": 27,
   "id": "electronic-addition",
   "metadata": {},
   "outputs": [],
   "source": [
    "xgb1 = xgb.XGBRegressor(objective='reg:squarederror')"
   ]
  },
  {
   "cell_type": "code",
   "execution_count": 28,
   "id": "documented-lottery",
   "metadata": {},
   "outputs": [],
   "source": [
    "parameters = {'learning_rate': [0.01,0.1], #so called `eta` value\n",
    "              'max_depth': [4,5,6]}"
   ]
  },
  {
   "cell_type": "code",
   "execution_count": 31,
   "id": "sitting-maintenance",
   "metadata": {},
   "outputs": [
    {
     "name": "stdout",
     "output_type": "stream",
     "text": [
      "Fitting 5 folds for each of 6 candidates, totalling 30 fits\n"
     ]
    }
   ],
   "source": [
    "xgb_grid = GridSearchCV(xgb1,parameters,n_jobs = 5,verbose=True)\n",
    "grid_result = xgb_grid.fit(X_train, y_train)"
   ]
  },
  {
   "cell_type": "code",
   "execution_count": 32,
   "id": "liberal-bulletin",
   "metadata": {},
   "outputs": [
    {
     "name": "stdout",
     "output_type": "stream",
     "text": [
      "0.8901221304739775\n"
     ]
    }
   ],
   "source": [
    "print(xgb_grid.best_score_)"
   ]
  },
  {
   "cell_type": "code",
   "execution_count": 33,
   "id": "musical-louis",
   "metadata": {},
   "outputs": [
    {
     "name": "stdout",
     "output_type": "stream",
     "text": [
      "{'learning_rate': 0.1, 'max_depth': 6}\n"
     ]
    }
   ],
   "source": [
    "print(xgb_grid.best_params_)"
   ]
  },
  {
   "cell_type": "code",
   "execution_count": 34,
   "id": "junior-filename",
   "metadata": {},
   "outputs": [
    {
     "data": {
      "text/plain": [
       "XGBRegressor(base_score=0.5, booster='gbtree', colsample_bylevel=1,\n",
       "             colsample_bynode=1, colsample_bytree=1, gamma=0, gpu_id=-1,\n",
       "             importance_type='gain', interaction_constraints='',\n",
       "             learning_rate=0.1, max_delta_step=0, max_depth=6,\n",
       "             min_child_weight=1, missing=nan, monotone_constraints='()',\n",
       "             n_estimators=100, n_jobs=8, num_parallel_tree=1, random_state=0,\n",
       "             reg_alpha=0, reg_lambda=1, scale_pos_weight=1, subsample=1,\n",
       "             tree_method='exact', validate_parameters=1, verbosity=None)"
      ]
     },
     "execution_count": 34,
     "metadata": {},
     "output_type": "execute_result"
    }
   ],
   "source": [
    "xg_reg = xgb.XGBRegressor(learning_rate=0.1, max_depth=6,objective='reg:squarederror')\n",
    "xg_reg.fit(X_train, y_train)"
   ]
  },
  {
   "cell_type": "code",
   "execution_count": 36,
   "id": "beautiful-fitting",
   "metadata": {},
   "outputs": [],
   "source": [
    "pred=xg_reg.predict(X_train)\n",
    "y_pred=xg_reg.predict(X_test)"
   ]
  },
  {
   "cell_type": "code",
   "execution_count": 37,
   "id": "bright-loading",
   "metadata": {},
   "outputs": [
    {
     "name": "stdout",
     "output_type": "stream",
     "text": [
      "Mean Absolute Error: 3952.471591848714\n",
      "Mean Squared Error: 54291575.43828189\n",
      "Root Mean Squared Error: 7368.281715453196\n"
     ]
    }
   ],
   "source": [
    "print('Mean Absolute Error:', mean_absolute_error(y_test, y_pred))  \n",
    "print('Mean Squared Error:', mean_squared_error(y_test, y_pred))  \n",
    "print('Root Mean Squared Error:', np.sqrt(mean_squared_error(y_test, y_pred)))"
   ]
  },
  {
   "cell_type": "code",
   "execution_count": 38,
   "id": "referenced-trinidad",
   "metadata": {},
   "outputs": [
    {
     "name": "stdout",
     "output_type": "stream",
     "text": [
      "R-squared score: 0.8929330105523595\n"
     ]
    }
   ],
   "source": [
    "print(\"R-squared score:\",r2_score(y_test, y_pred))"
   ]
  },
  {
   "cell_type": "code",
   "execution_count": 39,
   "id": "individual-acceptance",
   "metadata": {},
   "outputs": [
    {
     "name": "stdout",
     "output_type": "stream",
     "text": [
      "89.29330105523596\n"
     ]
    },
    {
     "name": "stderr",
     "output_type": "stream",
     "text": [
      "C:\\Users\\bodke\\AppData\\Local\\Packages\\PythonSoftwareFoundation.Python.3.9_qbz5n2kfra8p0\\LocalCache\\local-packages\\Python39\\site-packages\\xgboost\\data.py:112: UserWarning: Use subset (sliced data) of np.ndarray is not recommended because it will generate extra copies and increase memory consumption\n",
      "  warnings.warn(\n"
     ]
    }
   ],
   "source": [
    "print(xg_reg.score(X_test, y_test)*100)"
   ]
  },
  {
   "cell_type": "code",
   "execution_count": null,
   "id": "italian-fraction",
   "metadata": {},
   "outputs": [],
   "source": []
  }
 ],
 "metadata": {
  "kernelspec": {
   "display_name": "Python 3",
   "language": "python",
   "name": "python3"
  },
  "language_info": {
   "codemirror_mode": {
    "name": "ipython",
    "version": 3
   },
   "file_extension": ".py",
   "mimetype": "text/x-python",
   "name": "python",
   "nbconvert_exporter": "python",
   "pygments_lexer": "ipython3",
   "version": "3.9.4"
  }
 },
 "nbformat": 4,
 "nbformat_minor": 5
}
