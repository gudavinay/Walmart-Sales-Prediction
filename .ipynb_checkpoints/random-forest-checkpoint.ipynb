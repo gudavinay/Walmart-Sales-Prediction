{
 "cells": [
  {
   "cell_type": "code",
   "execution_count": 149,
   "id": "subject-sterling",
   "metadata": {},
   "outputs": [],
   "source": [
    "from sklearn.ensemble import RandomForestRegressor\n",
    "import pandas as pd\n",
    "import numpy as np\n",
    "from sklearn.model_selection import train_test_split"
   ]
  },
  {
   "cell_type": "code",
   "execution_count": 150,
   "id": "commercial-booking",
   "metadata": {},
   "outputs": [
    {
     "name": "stdout",
     "output_type": "stream",
     "text": [
      "Index(['Store', 'Dept', 'Size', 'Weekly_Sales', 'Temperature', 'Fuel_Price',\n",
      "       'CPI', 'Unemployment', 'MarkDown1', 'MarkDown2', 'MarkDown3',\n",
      "       'MarkDown4', 'MarkDown5', 'IsHoliday', 'Type_A', 'Type_B', 'Type_C',\n",
      "       'month', 'Year', 'quarter', 'is_weekend'],\n",
      "      dtype='object')\n"
     ]
    }
   ],
   "source": [
    "df =  pd.read_csv(\"joined_data_refined.csv\",keep_default_na=False, na_values=[\"\"])\n",
    "print(df.columns)"
   ]
  },
  {
   "cell_type": "code",
   "execution_count": 151,
   "id": "national-helen",
   "metadata": {},
   "outputs": [
    {
     "name": "stdout",
     "output_type": "stream",
     "text": [
      "   Store  Dept    Size  IsHoliday         CPI  Temperature  Type_B  Type_C  \\\n",
      "0      1     1  151315          0  211.096358        42.31       0       0   \n",
      "1      1     1  151315          1  211.242170        38.51       0       0   \n",
      "2      1     1  151315          0  211.289143        39.93       0       0   \n",
      "3      1     1  151315          0  211.319643        46.63       0       0   \n",
      "4      1     1  151315          0  211.350143        46.50       0       0   \n",
      "\n",
      "   MarkDown4  month  Year  is_weekend  \n",
      "0        0.0      2  2010           0  \n",
      "1        0.0      2  2010           0  \n",
      "2        0.0      2  2010           0  \n",
      "3        0.0      2  2010           0  \n",
      "4        0.0      3  2010           0  \n"
     ]
    }
   ],
   "source": [
    "X = df.loc[:, df.columns != 'Weekly_Sales']\n",
    "y = df.loc[:, df.columns == 'Weekly_Sales']\n",
    "\n",
    "X = X[[\"Store\", \"Dept\", \"Size\", \"IsHoliday\", \"CPI\", \"Temperature\",\"Type_B\",\"Type_C\",\"MarkDown4\",\"month\",\"Year\" ]]\n",
    "y = y.values.reshape(-1, 1)\n",
    "print(X.head())\n",
    "\n",
    "X_train, X_test, y_train, y_test = train_test_split(X, y, test_size=0.2, random_state=42)"
   ]
  },
  {
   "cell_type": "code",
   "execution_count": 152,
   "id": "muslim-balance",
   "metadata": {},
   "outputs": [
    {
     "name": "stdout",
     "output_type": "stream",
     "text": [
      "0.9681814603680645\n"
     ]
    }
   ],
   "source": [
    "rf = RandomForestRegressor(n_estimators=58, max_depth=27, min_samples_split=3, min_samples_leaf=1)\n",
    "rf.fit(X_train, y_train.ravel())\n",
    "print(rf.score(X_test, y_test.ravel()))"
   ]
  },
  {
   "cell_type": "code",
   "execution_count": 153,
   "id": "chronic-amber",
   "metadata": {},
   "outputs": [
    {
     "data": {
      "text/plain": [
       "array([0.0634751 , 0.62787237, 0.19006446, 0.00884019, 0.03563485,\n",
       "       0.01808463, 0.0108277 , 0.00150666, 0.00545534, 0.03705331,\n",
       "       0.00118539, 0.        ])"
      ]
     },
     "execution_count": 153,
     "metadata": {},
     "output_type": "execute_result"
    }
   ],
   "source": [
    "rf.feature_importances_"
   ]
  },
  {
   "cell_type": "code",
   "execution_count": 154,
   "id": "taken-broadcast",
   "metadata": {},
   "outputs": [
    {
     "data": {
      "text/plain": [
       "<BarContainer object of 12 artists>"
      ]
     },
     "execution_count": 154,
     "metadata": {},
     "output_type": "execute_result"
    },
    {
     "data": {
      "image/png": "[encoded data removed]",
      "text/plain": [
       "<Figure size 432x288 with 1 Axes>"
      ]
     },
     "metadata": {
      "needs_background": "light"
     },
     "output_type": "display_data"
    }
   ],
   "source": [
    "from matplotlib import pyplot as plt\n",
    "plt.barh(X.columns, rf.feature_importances_)"
   ]
  },
  {
   "cell_type": "code",
   "execution_count": null,
   "id": "oriental-princeton",
   "metadata": {},
   "outputs": [],
   "source": []
  }
 ],
 "metadata": {
  "kernelspec": {
   "display_name": "Python 3",
   "language": "python",
   "name": "python3"
  },
  "language_info": {
   "codemirror_mode": {
    "name": "ipython",
    "version": 3
   },
   "file_extension": ".py",
   "mimetype": "text/x-python",
   "name": "python",
   "nbconvert_exporter": "python",
   "pygments_lexer": "ipython3",
   "version": "3.9.2"
  }
 },
 "nbformat": 4,
 "nbformat_minor": 5
}
