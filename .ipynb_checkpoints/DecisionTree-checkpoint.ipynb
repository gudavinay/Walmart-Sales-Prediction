{
 "cells": [
  {
   "cell_type": "code",
   "execution_count": 26,
   "id": "junior-usage",
   "metadata": {},
   "outputs": [],
   "source": [
    "import pandas as pd\n",
    "import numpy as np\n",
    "from sklearn.model_selection import train_test_split"
   ]
  },
  {
   "cell_type": "code",
   "execution_count": 27,
   "id": "hidden-processor",
   "metadata": {},
   "outputs": [
    {
     "name": "stdout",
     "output_type": "stream",
     "text": [
      "Index(['Store', 'Dept', 'Size', 'Weekly_Sales', 'Temperature', 'Fuel_Price',\n",
      "       'CPI', 'Unemployment', 'MarkDown1', 'MarkDown2', 'MarkDown3',\n",
      "       'MarkDown4', 'MarkDown5', 'IsHoliday', 'Type_A', 'Type_B', 'Type_C',\n",
      "       'month', 'Year', 'quarter', 'is_weekend'],\n",
      "      dtype='object')\n"
     ]
    }
   ],
   "source": [
    "df =  pd.read_csv(\"joined_data_refined.csv\",keep_default_na=False, na_values=[\"\"])\n",
    "print(df.columns)"
   ]
  },
  {
   "cell_type": "code",
   "execution_count": 28,
   "id": "genuine-columbus",
   "metadata": {},
   "outputs": [
    {
     "name": "stdout",
     "output_type": "stream",
     "text": [
      "   Store  Dept    Size  IsHoliday         CPI  Temperature  month  Year\n",
      "0      1     1  151315          0  211.096358        42.31      2  2010\n",
      "1      1     1  151315          1  211.242170        38.51      2  2010\n",
      "2      1     1  151315          0  211.289143        39.93      2  2010\n",
      "3      1     1  151315          0  211.319643        46.63      2  2010\n",
      "4      1     1  151315          0  211.350143        46.50      3  2010\n"
     ]
    }
   ],
   "source": [
    "X = df.loc[:, df.columns != 'Weekly_Sales']\n",
    "y = df.loc[:, df.columns == 'Weekly_Sales']\n",
    "\n",
    "X = X[[\"Store\", \"Dept\", \"Size\", \"IsHoliday\", \"CPI\",\"Temperature\",\"month\",\"Year\" ]]\n",
    "y = y.values.reshape(-1, 1)\n",
    "print(X.head())\n",
    "\n",
    "X_train, X_test, y_train, y_test = train_test_split(X, y, test_size=0.2, random_state=0)"
   ]
  },
  {
   "cell_type": "code",
   "execution_count": 29,
   "id": "weekly-green",
   "metadata": {},
   "outputs": [],
   "source": [
    "from sklearn.tree import DecisionTreeRegressor\n",
    "dt = DecisionTreeRegressor(random_state=0)\n",
    "dt.fit(X_train,y_train)\n",
    "y_pred = dt.predict(X_test)"
   ]
  },
  {
   "cell_type": "code",
   "execution_count": 30,
   "id": "reasonable-bunch",
   "metadata": {},
   "outputs": [
    {
     "name": "stdout",
     "output_type": "stream",
     "text": [
      "Accuracy: 94.41254366063335 %\n",
      "RMSE: 5367.057028576299\n",
      "MAE: 2073.9825325131183\n"
     ]
    }
   ],
   "source": [
    "print('Accuracy:',dt.score(X_test, y_test.ravel())*100,'%')\n",
    "\n",
    "from sklearn.metrics import mean_squared_error\n",
    "from sklearn.metrics import mean_absolute_error\n",
    "\n",
    "rms = mean_squared_error(y_test, y_pred, squared=False)\n",
    "print('RMSE:',rms)\n",
    "\n",
    "print('MAE:',mean_absolute_error(y_test, y_pred))"
   ]
  },
  {
   "cell_type": "code",
   "execution_count": null,
   "id": "front-lightning",
   "metadata": {},
   "outputs": [],
   "source": []
  }
 ],
 "metadata": {
  "kernelspec": {
   "display_name": "Python 3",
   "language": "python",
   "name": "python3"
  },
  "language_info": {
   "codemirror_mode": {
    "name": "ipython",
    "version": 3
   },
   "file_extension": ".py",
   "mimetype": "text/x-python",
   "name": "python",
   "nbconvert_exporter": "python",
   "pygments_lexer": "ipython3",
   "version": "3.9.2"
  }
 },
 "nbformat": 4,
 "nbformat_minor": 5
}
